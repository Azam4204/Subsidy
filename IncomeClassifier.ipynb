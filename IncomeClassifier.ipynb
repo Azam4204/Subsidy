{
 "cells": [
  {
   "cell_type": "markdown",
   "metadata": {},
   "source": [
    "# Developing an Income Classifier System for individuals"
   ]
  },
  {
   "cell_type": "markdown",
   "metadata": {},
   "source": [
    "## Importing necessary packages"
   ]
  },
  {
   "cell_type": "code",
   "execution_count": 3,
   "metadata": {},
   "outputs": [],
   "source": [
    "import pandas as pd\n",
    "import numpy as np\n",
    "import seaborn as sns\n",
    "from sklearn.model_selection import train_test_split\n",
    "from sklearn.linear_model import LogisticRegression\n",
    "from sklearn.metrics import accuracy_score\n",
    "from sklearn.metrics import confusion_matrix\n"
   ]
  },
  {
   "cell_type": "code",
   "execution_count": 4,
   "metadata": {},
   "outputs": [
    {
     "name": "stdout",
     "output_type": "stream",
     "text": [
      "   age       JobType         EdType        maritalstatus       occupation  \\\n",
      "0   45       Private        HS-grad             Divorced     Adm-clerical   \n",
      "1   24   Federal-gov        HS-grad        Never-married     Armed-Forces   \n",
      "2   44       Private   Some-college   Married-civ-spouse   Prof-specialty   \n",
      "3   27       Private            9th        Never-married     Craft-repair   \n",
      "4   20       Private   Some-college        Never-married            Sales   \n",
      "\n",
      "      relationship    race   gender  capitalgain  capitalloss  hoursperweek  \\\n",
      "0    Not-in-family   White   Female            0            0            28   \n",
      "1        Own-child   White     Male            0            0            40   \n",
      "2          Husband   White     Male            0            0            40   \n",
      "3   Other-relative   White     Male            0            0            40   \n",
      "4    Not-in-family   White     Male            0            0            35   \n",
      "\n",
      "    nativecountry                        SalStat  \n",
      "0   United-States   less than or equal to 50,000  \n",
      "1   United-States   less than or equal to 50,000  \n",
      "2   United-States            greater than 50,000  \n",
      "3          Mexico   less than or equal to 50,000  \n",
      "4   United-States   less than or equal to 50,000  \n"
     ]
    }
   ],
   "source": [
    "#Importing data\n",
    "data_income=pd.read_csv('income.csv')\n",
    "print(data_income.head())"
   ]
  },
  {
   "cell_type": "code",
   "execution_count": 5,
   "metadata": {},
   "outputs": [],
   "source": [
    "#Creating a copy of the original data\n",
    "data=data_income.copy()"
   ]
  },
  {
   "cell_type": "markdown",
   "metadata": {},
   "source": [
    "## Exploratory Data Analysis"
   ]
  },
  {
   "cell_type": "code",
   "execution_count": 6,
   "metadata": {},
   "outputs": [
    {
     "name": "stdout",
     "output_type": "stream",
     "text": [
      "<class 'pandas.core.frame.DataFrame'>\n",
      "RangeIndex: 31978 entries, 0 to 31977\n",
      "Data columns (total 13 columns):\n",
      " #   Column         Non-Null Count  Dtype \n",
      "---  ------         --------------  ----- \n",
      " 0   age            31978 non-null  int64 \n",
      " 1   JobType        31978 non-null  object\n",
      " 2   EdType         31978 non-null  object\n",
      " 3   maritalstatus  31978 non-null  object\n",
      " 4   occupation     31978 non-null  object\n",
      " 5   relationship   31978 non-null  object\n",
      " 6   race           31978 non-null  object\n",
      " 7   gender         31978 non-null  object\n",
      " 8   capitalgain    31978 non-null  int64 \n",
      " 9   capitalloss    31978 non-null  int64 \n",
      " 10  hoursperweek   31978 non-null  int64 \n",
      " 11  nativecountry  31978 non-null  object\n",
      " 12  SalStat        31978 non-null  object\n",
      "dtypes: int64(4), object(9)\n",
      "memory usage: 3.2+ MB\n",
      "None\n"
     ]
    }
   ],
   "source": [
    "#Getting to know the data\n",
    "print(data.info()) #To check variables data type"
   ]
  },
  {
   "cell_type": "code",
   "execution_count": 7,
   "metadata": {},
   "outputs": [
    {
     "name": "stdout",
     "output_type": "stream",
     "text": [
      "     age  JobType  EdType  maritalstatus  occupation  relationship   race  \\\n",
      "0  False    False   False          False       False         False  False   \n",
      "1  False    False   False          False       False         False  False   \n",
      "2  False    False   False          False       False         False  False   \n",
      "3  False    False   False          False       False         False  False   \n",
      "4  False    False   False          False       False         False  False   \n",
      "\n",
      "   gender  capitalgain  capitalloss  hoursperweek  nativecountry  SalStat  \n",
      "0   False        False        False         False          False    False  \n",
      "1   False        False        False         False          False    False  \n",
      "2   False        False        False         False          False    False  \n",
      "3   False        False        False         False          False    False  \n",
      "4   False        False        False         False          False    False  \n"
     ]
    }
   ],
   "source": [
    "#Checking for the missing values\n",
    "print(data.isnull().head())"
   ]
  },
  {
   "cell_type": "code",
   "execution_count": 8,
   "metadata": {},
   "outputs": [
    {
     "name": "stdout",
     "output_type": "stream",
     "text": [
      "Data columns with null values: \n",
      " age              0\n",
      "JobType          0\n",
      "EdType           0\n",
      "maritalstatus    0\n",
      "occupation       0\n",
      "relationship     0\n",
      "race             0\n",
      "gender           0\n",
      "capitalgain      0\n",
      "capitalloss      0\n",
      "hoursperweek     0\n",
      "nativecountry    0\n",
      "SalStat          0\n",
      "dtype: int64\n"
     ]
    }
   ],
   "source": [
    "print(\"Data columns with null values: \\n\",data.isnull().sum())"
   ]
  },
  {
   "cell_type": "code",
   "execution_count": 9,
   "metadata": {},
   "outputs": [
    {
     "name": "stdout",
     "output_type": "stream",
     "text": [
      "                age   capitalgain   capitalloss  hoursperweek\n",
      "count  31978.000000  31978.000000  31978.000000  31978.000000\n",
      "mean      38.579023   1064.360623     86.739352     40.417850\n",
      "std       13.662085   7298.596271    401.594301     12.345285\n",
      "min       17.000000      0.000000      0.000000      1.000000\n",
      "25%       28.000000      0.000000      0.000000     40.000000\n",
      "50%       37.000000      0.000000      0.000000     40.000000\n",
      "75%       48.000000      0.000000      0.000000     45.000000\n",
      "max       90.000000  99999.000000   4356.000000     99.000000\n"
     ]
    }
   ],
   "source": [
    "#Summary of numerical variables\n",
    "summary_sum=data.describe()\n",
    "print(summary_sum)"
   ]
  },
  {
   "cell_type": "code",
   "execution_count": 10,
   "metadata": {},
   "outputs": [
    {
     "name": "stdout",
     "output_type": "stream",
     "text": [
      "         JobType    EdType        maritalstatus       occupation relationship  \\\n",
      "count      31978     31978                31978            31978        31978   \n",
      "unique         9        16                    7               15            6   \n",
      "top      Private   HS-grad   Married-civ-spouse   Prof-specialty      Husband   \n",
      "freq       22286     10368                14692             4038        12947   \n",
      "\n",
      "          race gender   nativecountry                        SalStat  \n",
      "count    31978  31978           31978                          31978  \n",
      "unique       5      2              41                              2  \n",
      "top      White   Male   United-States   less than or equal to 50,000  \n",
      "freq     27430  21370           29170                          24283  \n"
     ]
    }
   ],
   "source": [
    "#Summary of categorical variables\n",
    "summary_cate=data.describe(include='O')\n",
    "print(summary_cate)"
   ]
  },
  {
   "cell_type": "code",
   "execution_count": 11,
   "metadata": {},
   "outputs": [
    {
     "name": "stdout",
     "output_type": "stream",
     "text": [
      " Private             22286\n",
      " Self-emp-not-inc     2499\n",
      " Local-gov            2067\n",
      " ?                    1809\n",
      " State-gov            1279\n",
      " Self-emp-inc         1074\n",
      " Federal-gov           943\n",
      " Without-pay            14\n",
      " Never-worked            7\n",
      "Name: JobType, dtype: int64\n",
      " Prof-specialty       4038\n",
      " Craft-repair         4030\n",
      " Exec-managerial      3992\n",
      " Adm-clerical         3721\n",
      " Sales                3584\n",
      " Other-service        3212\n",
      " Machine-op-inspct    1966\n",
      " ?                    1816\n",
      " Transport-moving     1572\n",
      " Handlers-cleaners    1350\n",
      " Farming-fishing       989\n",
      " Tech-support          912\n",
      " Protective-serv       644\n",
      " Priv-house-serv       143\n",
      " Armed-Forces            9\n",
      "Name: occupation, dtype: int64\n"
     ]
    }
   ],
   "source": [
    "#Frequency of each category\n",
    "print(data['JobType'].value_counts())\n",
    "print(data['occupation'].value_counts())"
   ]
  },
  {
   "cell_type": "code",
   "execution_count": 12,
   "metadata": {},
   "outputs": [
    {
     "name": "stdout",
     "output_type": "stream",
     "text": [
      "[' ?' ' Federal-gov' ' Local-gov' ' Never-worked' ' Private'\n",
      " ' Self-emp-inc' ' Self-emp-not-inc' ' State-gov' ' Without-pay']\n",
      "[' ?' ' Adm-clerical' ' Armed-Forces' ' Craft-repair' ' Exec-managerial'\n",
      " ' Farming-fishing' ' Handlers-cleaners' ' Machine-op-inspct'\n",
      " ' Other-service' ' Priv-house-serv' ' Prof-specialty' ' Protective-serv'\n",
      " ' Sales' ' Tech-support' ' Transport-moving']\n"
     ]
    }
   ],
   "source": [
    "#Checking for unique values\n",
    "print(np.unique(data['JobType']))\n",
    "print(np.unique(data['occupation'])) #There exists '?' instead of nan"
   ]
  },
  {
   "cell_type": "code",
   "execution_count": 13,
   "metadata": {},
   "outputs": [],
   "source": [
    "#Go back and read data by including \"na_values['?']\" to consider '?' as nan\n",
    "data=pd.read_csv('income.csv',na_values=['?'])"
   ]
  },
  {
   "cell_type": "code",
   "execution_count": 14,
   "metadata": {},
   "outputs": [
    {
     "name": "stdout",
     "output_type": "stream",
     "text": [
      "age              0\n",
      "JobType          0\n",
      "EdType           0\n",
      "maritalstatus    0\n",
      "occupation       0\n",
      "relationship     0\n",
      "race             0\n",
      "gender           0\n",
      "capitalgain      0\n",
      "capitalloss      0\n",
      "hoursperweek     0\n",
      "nativecountry    0\n",
      "SalStat          0\n",
      "dtype: int64\n"
     ]
    }
   ],
   "source": [
    "#Data preprocessing\n",
    "print(data.isnull().sum())\n"
   ]
  },
  {
   "cell_type": "code",
   "execution_count": 15,
   "metadata": {},
   "outputs": [],
   "source": [
    "missing=data[data.isnull().any(axis=1)]\n",
    "#axis=1 to consider at least one column is missing"
   ]
  },
  {
   "cell_type": "code",
   "execution_count": 16,
   "metadata": {},
   "outputs": [],
   "source": [
    "data2=data.dropna(axis=0) #dropping the rows with missing values"
   ]
  },
  {
   "cell_type": "code",
   "execution_count": 17,
   "metadata": {},
   "outputs": [],
   "source": [
    "#Relationship between independent variables\n",
    "correlation=data2.corr()"
   ]
  },
  {
   "cell_type": "markdown",
   "metadata": {},
   "source": [
    "## Cross table and Data Visualization"
   ]
  },
  {
   "cell_type": "code",
   "execution_count": 18,
   "metadata": {},
   "outputs": [
    {
     "name": "stdout",
     "output_type": "stream",
     "text": [
      "Index(['age', 'JobType', 'EdType', 'maritalstatus', 'occupation',\n",
      "       'relationship', 'race', 'gender', 'capitalgain', 'capitalloss',\n",
      "       'hoursperweek', 'nativecountry', 'SalStat'],\n",
      "      dtype='object')\n"
     ]
    }
   ],
   "source": [
    "#Extracting the column names\n",
    "print(data2.columns)"
   ]
  },
  {
   "cell_type": "code",
   "execution_count": 19,
   "metadata": {},
   "outputs": [
    {
     "name": "stdout",
     "output_type": "stream",
     "text": [
      "col_0       count\n",
      "gender           \n",
      " Female  0.331728\n",
      " Male    0.668272\n"
     ]
    }
   ],
   "source": [
    "#Gender proportion table\n",
    "gender=pd.crosstab(index=data2['gender'],columns='count',normalize=True)\n",
    "print(gender)"
   ]
  },
  {
   "cell_type": "code",
   "execution_count": 20,
   "metadata": {},
   "outputs": [
    {
     "name": "stdout",
     "output_type": "stream",
     "text": [
      "SalStat   greater than 50,000   less than or equal to 50,000\n",
      "gender                                                      \n",
      " Female              0.109540                       0.890460\n",
      " Male                0.305709                       0.694291\n",
      "All                  0.240634                       0.759366\n"
     ]
    }
   ],
   "source": [
    "#Gender vs Salary Status\n",
    "gender_salstat=pd.crosstab(index=data2['gender'],columns=data2['SalStat'],margins=True,normalize='index')\n",
    "print(gender_salstat)"
   ]
  },
  {
   "cell_type": "code",
   "execution_count": 21,
   "metadata": {},
   "outputs": [
    {
     "data": {
      "image/png": "[encoded data removed]",
      "text/plain": [
       "<Figure size 432x288 with 1 Axes>"
      ]
     },
     "metadata": {
      "needs_background": "light"
     },
     "output_type": "display_data"
    }
   ],
   "source": [
    "#Frequency Distribution of Salary Status\n",
    "SalStat=sns.countplot(x=data2['SalStat'])"
   ]
  },
  {
   "cell_type": "code",
   "execution_count": 59,
   "metadata": {},
   "outputs": [
    {
     "data": {
      "text/plain": [
       "<AxesSubplot:>"
      ]
     },
     "execution_count": 59,
     "metadata": {},
     "output_type": "execute_result"
    },
    {
     "data": {
      "image/png": "[encoded data removed]",
      "text/plain": [
       "<Figure size 432x288 with 1 Axes>"
      ]
     },
     "metadata": {
      "needs_background": "light"
     },
     "output_type": "display_data"
    }
   ],
   "source": [
    "#Histogram of age\n",
    "sns.distplot(x=data2['age'],bins=10,kde=False)\n",
    "#People with age 20-45 are high in frequency"
   ]
  },
  {
   "cell_type": "code",
   "execution_count": 23,
   "metadata": {},
   "outputs": [
    {
     "data": {
      "text/plain": [
       "SalStat\n",
       " greater than 50,000             44.0\n",
       " less than or equal to 50,000    34.0\n",
       "Name: age, dtype: float64"
      ]
     },
     "execution_count": 23,
     "metadata": {},
     "output_type": "execute_result"
    },
    {
     "data": {
      "image/png": "[encoded data removed]",
      "text/plain": [
       "<Figure size 432x288 with 1 Axes>"
      ]
     },
     "metadata": {
      "needs_background": "light"
     },
     "output_type": "display_data"
    }
   ],
   "source": [
    "#Box Plot - Age vs Salary Status\n",
    "sns.boxplot(x='SalStat',y='age',data=data2)\n",
    "data2.groupby('SalStat')['age'].median()"
   ]
  },
  {
   "cell_type": "markdown",
   "metadata": {},
   "source": [
    "## Logistic Regression"
   ]
  },
  {
   "cell_type": "code",
   "execution_count": 24,
   "metadata": {},
   "outputs": [
    {
     "name": "stdout",
     "output_type": "stream",
     "text": [
      "0        0\n",
      "1        0\n",
      "2        1\n",
      "3        0\n",
      "4        0\n",
      "        ..\n",
      "31973    0\n",
      "31974    0\n",
      "31975    0\n",
      "31976    0\n",
      "31977    0\n",
      "Name: SalStat, Length: 31978, dtype: int64\n"
     ]
    }
   ],
   "source": [
    "#Reindexing the salary status names to 0,1\n",
    "#data2['SalStat']=data2['SalStat'].map({'less than or equal to 50,000':0,'greater than 50,000':1})\n",
    "data2['SalStat']=np.where(data2['SalStat'].str.contains('less than or equal to 50,000'),0,1)\n",
    "print(data2['SalStat'])"
   ]
  },
  {
   "cell_type": "code",
   "execution_count": 25,
   "metadata": {},
   "outputs": [
    {
     "name": "stdout",
     "output_type": "stream",
     "text": [
      "   age  capitalgain  capitalloss  hoursperweek  SalStat  JobType_ Federal-gov  \\\n",
      "0   45            0            0            28        0                     0   \n",
      "1   24            0            0            40        0                     1   \n",
      "2   44            0            0            40        1                     0   \n",
      "3   27            0            0            40        0                     0   \n",
      "4   20            0            0            35        0                     0   \n",
      "\n",
      "   JobType_ Local-gov  JobType_ Never-worked  JobType_ Private  \\\n",
      "0                   0                      0                 1   \n",
      "1                   0                      0                 0   \n",
      "2                   0                      0                 1   \n",
      "3                   0                      0                 1   \n",
      "4                   0                      0                 1   \n",
      "\n",
      "   JobType_ Self-emp-inc  ...  nativecountry_ Portugal  \\\n",
      "0                      0  ...                        0   \n",
      "1                      0  ...                        0   \n",
      "2                      0  ...                        0   \n",
      "3                      0  ...                        0   \n",
      "4                      0  ...                        0   \n",
      "\n",
      "   nativecountry_ Puerto-Rico  nativecountry_ Scotland  nativecountry_ South  \\\n",
      "0                           0                        0                     0   \n",
      "1                           0                        0                     0   \n",
      "2                           0                        0                     0   \n",
      "3                           0                        0                     0   \n",
      "4                           0                        0                     0   \n",
      "\n",
      "   nativecountry_ Taiwan  nativecountry_ Thailand  \\\n",
      "0                      0                        0   \n",
      "1                      0                        0   \n",
      "2                      0                        0   \n",
      "3                      0                        0   \n",
      "4                      0                        0   \n",
      "\n",
      "   nativecountry_ Trinadad&Tobago  nativecountry_ United-States  \\\n",
      "0                               0                             1   \n",
      "1                               0                             1   \n",
      "2                               0                             1   \n",
      "3                               0                             0   \n",
      "4                               0                             1   \n",
      "\n",
      "   nativecountry_ Vietnam  nativecountry_ Yugoslavia  \n",
      "0                       0                          0  \n",
      "1                       0                          0  \n",
      "2                       0                          0  \n",
      "3                       0                          0  \n",
      "4                       0                          0  \n",
      "\n",
      "[5 rows x 98 columns]\n"
     ]
    }
   ],
   "source": [
    "#Dummy Analysis\n",
    "new_data=pd.get_dummies(data2,drop_first=True)\n",
    "print(new_data.head())"
   ]
  },
  {
   "cell_type": "code",
   "execution_count": 26,
   "metadata": {},
   "outputs": [
    {
     "name": "stdout",
     "output_type": "stream",
     "text": [
      "['age', 'capitalgain', 'capitalloss', 'hoursperweek', 'SalStat', 'JobType_ Federal-gov', 'JobType_ Local-gov', 'JobType_ Never-worked', 'JobType_ Private', 'JobType_ Self-emp-inc', 'JobType_ Self-emp-not-inc', 'JobType_ State-gov', 'JobType_ Without-pay', 'EdType_ 11th', 'EdType_ 12th', 'EdType_ 1st-4th', 'EdType_ 5th-6th', 'EdType_ 7th-8th', 'EdType_ 9th', 'EdType_ Assoc-acdm', 'EdType_ Assoc-voc', 'EdType_ Bachelors', 'EdType_ Doctorate', 'EdType_ HS-grad', 'EdType_ Masters', 'EdType_ Preschool', 'EdType_ Prof-school', 'EdType_ Some-college', 'maritalstatus_ Married-AF-spouse', 'maritalstatus_ Married-civ-spouse', 'maritalstatus_ Married-spouse-absent', 'maritalstatus_ Never-married', 'maritalstatus_ Separated', 'maritalstatus_ Widowed', 'occupation_ Adm-clerical', 'occupation_ Armed-Forces', 'occupation_ Craft-repair', 'occupation_ Exec-managerial', 'occupation_ Farming-fishing', 'occupation_ Handlers-cleaners', 'occupation_ Machine-op-inspct', 'occupation_ Other-service', 'occupation_ Priv-house-serv', 'occupation_ Prof-specialty', 'occupation_ Protective-serv', 'occupation_ Sales', 'occupation_ Tech-support', 'occupation_ Transport-moving', 'relationship_ Not-in-family', 'relationship_ Other-relative', 'relationship_ Own-child', 'relationship_ Unmarried', 'relationship_ Wife', 'race_ Asian-Pac-Islander', 'race_ Black', 'race_ Other', 'race_ White', 'gender_ Male', 'nativecountry_ Canada', 'nativecountry_ China', 'nativecountry_ Columbia', 'nativecountry_ Cuba', 'nativecountry_ Dominican-Republic', 'nativecountry_ Ecuador', 'nativecountry_ El-Salvador', 'nativecountry_ England', 'nativecountry_ France', 'nativecountry_ Germany', 'nativecountry_ Greece', 'nativecountry_ Guatemala', 'nativecountry_ Haiti', 'nativecountry_ Holand-Netherlands', 'nativecountry_ Honduras', 'nativecountry_ Hong', 'nativecountry_ Hungary', 'nativecountry_ India', 'nativecountry_ Iran', 'nativecountry_ Ireland', 'nativecountry_ Italy', 'nativecountry_ Jamaica', 'nativecountry_ Japan', 'nativecountry_ Laos', 'nativecountry_ Mexico', 'nativecountry_ Nicaragua', 'nativecountry_ Outlying-US(Guam-USVI-etc)', 'nativecountry_ Peru', 'nativecountry_ Philippines', 'nativecountry_ Poland', 'nativecountry_ Portugal', 'nativecountry_ Puerto-Rico', 'nativecountry_ Scotland', 'nativecountry_ South', 'nativecountry_ Taiwan', 'nativecountry_ Thailand', 'nativecountry_ Trinadad&Tobago', 'nativecountry_ United-States', 'nativecountry_ Vietnam', 'nativecountry_ Yugoslavia']\n"
     ]
    }
   ],
   "source": [
    "#Storing the column names\n",
    "columns_list=list(new_data.columns)\n",
    "print(columns_list)"
   ]
  },
  {
   "cell_type": "code",
   "execution_count": 27,
   "metadata": {},
   "outputs": [
    {
     "name": "stdout",
     "output_type": "stream",
     "text": [
      "['maritalstatus_ Never-married', 'nativecountry_ Haiti', 'nativecountry_ Laos', 'nativecountry_ Holand-Netherlands', 'EdType_ Assoc-acdm', 'EdType_ 5th-6th', 'race_ Other', 'nativecountry_ Poland', 'occupation_ Other-service', 'occupation_ Sales', 'occupation_ Machine-op-inspct', 'nativecountry_ Ireland', 'nativecountry_ Canada', 'JobType_ Self-emp-not-inc', 'EdType_ Prof-school', 'JobType_ Self-emp-inc', 'race_ Black', 'occupation_ Farming-fishing', 'race_ White', 'nativecountry_ Columbia', 'nativecountry_ Ecuador', 'nativecountry_ Italy', 'nativecountry_ South', 'EdType_ 1st-4th', 'maritalstatus_ Married-spouse-absent', 'occupation_ Armed-Forces', 'nativecountry_ Portugal', 'nativecountry_ Yugoslavia', 'nativecountry_ Germany', 'nativecountry_ England', 'occupation_ Adm-clerical', 'maritalstatus_ Married-AF-spouse', 'nativecountry_ Thailand', 'nativecountry_ China', 'JobType_ Without-pay', 'nativecountry_ Cuba', 'JobType_ State-gov', 'nativecountry_ Hong', 'nativecountry_ United-States', 'EdType_ 11th', 'occupation_ Priv-house-serv', 'nativecountry_ Philippines', 'nativecountry_ Japan', 'maritalstatus_ Widowed', 'EdType_ Preschool', 'nativecountry_ Mexico', 'race_ Asian-Pac-Islander', 'EdType_ Assoc-voc', 'JobType_ Local-gov', 'relationship_ Wife', 'EdType_ 12th', 'occupation_ Transport-moving', 'maritalstatus_ Married-civ-spouse', 'occupation_ Handlers-cleaners', 'JobType_ Federal-gov', 'relationship_ Not-in-family', 'EdType_ Bachelors', 'occupation_ Craft-repair', 'EdType_ 9th', 'relationship_ Unmarried', 'nativecountry_ Iran', 'nativecountry_ Outlying-US(Guam-USVI-etc)', 'nativecountry_ Puerto-Rico', 'nativecountry_ Vietnam', 'nativecountry_ Peru', 'age', 'nativecountry_ India', 'nativecountry_ Honduras', 'maritalstatus_ Separated', 'occupation_ Tech-support', 'nativecountry_ Trinadad&Tobago', 'occupation_ Prof-specialty', 'EdType_ Masters', 'nativecountry_ Dominican-Republic', 'JobType_ Private', 'nativecountry_ Nicaragua', 'occupation_ Protective-serv', 'capitalloss', 'nativecountry_ Greece', 'relationship_ Own-child', 'gender_ Male', 'EdType_ Some-college', 'nativecountry_ France', 'nativecountry_ Hungary', 'hoursperweek', 'EdType_ 7th-8th', 'occupation_ Exec-managerial', 'EdType_ Doctorate', 'nativecountry_ Guatemala', 'JobType_ Never-worked', 'nativecountry_ Scotland', 'relationship_ Other-relative', 'nativecountry_ Jamaica', 'capitalgain', 'nativecountry_ El-Salvador', 'nativecountry_ Taiwan', 'EdType_ HS-grad']\n"
     ]
    }
   ],
   "source": [
    "#Separating the input names from data\n",
    "features=list(set(columns_list)-set(['SalStat']))\n",
    "print(features)"
   ]
  },
  {
   "cell_type": "code",
   "execution_count": 28,
   "metadata": {},
   "outputs": [
    {
     "name": "stdout",
     "output_type": "stream",
     "text": [
      "[0 0 1 ... 0 0 0]\n"
     ]
    }
   ],
   "source": [
    "#Storing the output values in y\n",
    "y=new_data['SalStat'].values\n",
    "print(y)"
   ]
  },
  {
   "cell_type": "code",
   "execution_count": 29,
   "metadata": {},
   "outputs": [
    {
     "name": "stdout",
     "output_type": "stream",
     "text": [
      "[[0 0 0 ... 0 0 1]\n",
      " [1 0 0 ... 0 0 1]\n",
      " [0 0 0 ... 0 0 0]\n",
      " ...\n",
      " [0 0 0 ... 0 0 0]\n",
      " [0 0 0 ... 0 0 0]\n",
      " [1 0 0 ... 0 0 0]]\n"
     ]
    }
   ],
   "source": [
    "#Storing the values from input features\n",
    "x=new_data[features].values\n",
    "print(x)"
   ]
  },
  {
   "cell_type": "code",
   "execution_count": 30,
   "metadata": {},
   "outputs": [],
   "source": [
    "#Splitting the data into train and test\n",
    "train_x,test_x,train_y,test_y=train_test_split(x,y,test_size=0.3,random_state=0)\n"
   ]
  },
  {
   "cell_type": "code",
   "execution_count": 31,
   "metadata": {},
   "outputs": [],
   "source": [
    "#Make an instance of the Model\n",
    "logistic=LogisticRegression(max_iter=1500)\n"
   ]
  },
  {
   "cell_type": "code",
   "execution_count": 32,
   "metadata": {},
   "outputs": [
    {
     "name": "stdout",
     "output_type": "stream",
     "text": [
      "[[-6.89171556e-01 -7.01332500e-02 -3.73499810e-02 -3.01814926e-03\n",
      "   1.36175934e-01 -7.73143235e-01 -5.77689655e-01 -9.90034426e-02\n",
      "  -9.55097727e-01  3.03035869e-01 -3.45953971e-01  1.56328932e-02\n",
      "   2.30341260e-02 -3.65322365e-01  1.23874294e+00  9.32051358e-02\n",
      "  -7.26415604e-01 -9.98703436e-01 -6.45811564e-01 -1.46805174e-01\n",
      "  -2.36086508e-02  4.68293377e-02 -2.54601508e-01 -4.39390481e-01\n",
      "  -2.86425965e-01 -3.11626457e-02 -1.42202545e-01  3.16035801e-02\n",
      "   1.24529475e-01 -1.65784493e-03  3.42092557e-02  1.60859605e-01\n",
      "  -4.77404481e-02 -2.11865869e-01 -4.36604267e-02 -6.09240798e-02\n",
      "  -4.39128638e-01 -3.45833806e-02  5.30034287e-02 -1.22301141e+00\n",
      "  -2.06917251e-01  1.98139069e-03  1.94317382e-02 -3.19280915e-01\n",
      "  -1.99258304e-01 -1.12866734e+00 -7.81466374e-01  8.75535261e-02\n",
      "  -1.75520737e-01  1.02542327e+00 -4.96446711e-01 -1.36336460e-01\n",
      "   6.88978441e-01 -8.66083542e-01  5.30678399e-01 -7.16166328e-01\n",
      "   7.16988186e-01 -2.85875156e-02 -9.98831924e-01 -1.10563546e+00\n",
      "  -2.27277938e-02 -4.64669083e-02 -2.34009391e-01 -1.69162542e-01\n",
      "  -5.78490517e-02  2.06822563e-02 -1.31528883e-01 -1.86681610e-02\n",
      "  -4.72192656e-01  8.60150324e-01 -4.84976894e-02  6.42818289e-01\n",
      "   9.85963561e-01 -1.90019366e-01  3.00091289e-02 -1.23578465e-01\n",
      "   5.08123207e-01  6.34261883e-04 -1.35221988e-01 -1.82796665e+00\n",
      "   5.84449270e-01 -2.98232584e-02  7.66437268e-02  7.21886194e-03\n",
      "   3.12809435e-02 -1.51614744e+00  8.50766101e-01  1.36272066e+00\n",
      "  -8.28085108e-02 -1.49798484e-02 -2.79388121e-02 -1.04218827e+00\n",
      "  -1.52958960e-01  3.10405656e-04 -1.91559319e-01 -5.93119119e-02\n",
      "  -4.14354752e-01]]\n",
      "[-3.64274538]\n"
     ]
    }
   ],
   "source": [
    "#Fitting the values of x and y\n",
    "logistic.fit(train_x,train_y)\n",
    "print(logistic.coef_)\n",
    "print(logistic.intercept_)\n",
    " "
   ]
  },
  {
   "cell_type": "code",
   "execution_count": 33,
   "metadata": {},
   "outputs": [
    {
     "name": "stdout",
     "output_type": "stream",
     "text": [
      "[0 0 0 ... 0 0 0]\n"
     ]
    }
   ],
   "source": [
    "#Prediction from test data\n",
    "prediction=logistic.predict(test_x)\n",
    "print(prediction)"
   ]
  },
  {
   "cell_type": "code",
   "execution_count": 34,
   "metadata": {},
   "outputs": [
    {
     "name": "stdout",
     "output_type": "stream",
     "text": [
      "[[6825  511]\n",
      " [ 917 1341]]\n"
     ]
    }
   ],
   "source": [
    "#Confusion matrix\n",
    "confusion_matrix1=confusion_matrix(test_y,prediction)\n",
    "print(confusion_matrix1)"
   ]
  },
  {
   "cell_type": "code",
   "execution_count": 35,
   "metadata": {},
   "outputs": [
    {
     "name": "stdout",
     "output_type": "stream",
     "text": [
      "0.8511569731081926\n"
     ]
    }
   ],
   "source": [
    "#Calculating the accuracy\n",
    "accuracy_score1=accuracy_score(test_y,prediction)\n",
    "print(accuracy_score1)"
   ]
  },
  {
   "cell_type": "code",
   "execution_count": 36,
   "metadata": {},
   "outputs": [
    {
     "name": "stdout",
     "output_type": "stream",
     "text": [
      "Misclassified samples : 1428 \n"
     ]
    }
   ],
   "source": [
    "#Printing misclassified values from prediction\n",
    "print(\"Misclassified samples : %d \" % (test_y!=prediction).sum())"
   ]
  },
  {
   "cell_type": "markdown",
   "metadata": {},
   "source": [
    "### Logistic Regression - Removing insignificant variables"
   ]
  },
  {
   "cell_type": "code",
   "execution_count": 37,
   "metadata": {},
   "outputs": [],
   "source": [
    "#Reindexing the salary status names to 0,1\n",
    "#data2['SalStat']=data2['SalStat'].map({' less than or equal to 50,000':0,' greater than 50,000':1})\n",
    "#data2['SalStat']=np.where(data2['SalStat'].str.contains('less than or equal to 50,000'),0,1)\n",
    "\n",
    "#print(data2['SalStat'])"
   ]
  },
  {
   "cell_type": "code",
   "execution_count": 38,
   "metadata": {},
   "outputs": [],
   "source": [
    "cols=['gender','nativecountry','race','JobType']\n",
    "new_data=data2.drop(cols,axis=1)"
   ]
  },
  {
   "cell_type": "code",
   "execution_count": 39,
   "metadata": {},
   "outputs": [],
   "source": [
    "new_data=pd.get_dummies(new_data,drop_first=True)"
   ]
  },
  {
   "cell_type": "code",
   "execution_count": 40,
   "metadata": {},
   "outputs": [
    {
     "name": "stdout",
     "output_type": "stream",
     "text": [
      "['age', 'capitalgain', 'capitalloss', 'hoursperweek', 'SalStat', 'EdType_ 11th', 'EdType_ 12th', 'EdType_ 1st-4th', 'EdType_ 5th-6th', 'EdType_ 7th-8th', 'EdType_ 9th', 'EdType_ Assoc-acdm', 'EdType_ Assoc-voc', 'EdType_ Bachelors', 'EdType_ Doctorate', 'EdType_ HS-grad', 'EdType_ Masters', 'EdType_ Preschool', 'EdType_ Prof-school', 'EdType_ Some-college', 'maritalstatus_ Married-AF-spouse', 'maritalstatus_ Married-civ-spouse', 'maritalstatus_ Married-spouse-absent', 'maritalstatus_ Never-married', 'maritalstatus_ Separated', 'maritalstatus_ Widowed', 'occupation_ Adm-clerical', 'occupation_ Armed-Forces', 'occupation_ Craft-repair', 'occupation_ Exec-managerial', 'occupation_ Farming-fishing', 'occupation_ Handlers-cleaners', 'occupation_ Machine-op-inspct', 'occupation_ Other-service', 'occupation_ Priv-house-serv', 'occupation_ Prof-specialty', 'occupation_ Protective-serv', 'occupation_ Sales', 'occupation_ Tech-support', 'occupation_ Transport-moving', 'relationship_ Not-in-family', 'relationship_ Other-relative', 'relationship_ Own-child', 'relationship_ Unmarried', 'relationship_ Wife']\n"
     ]
    }
   ],
   "source": [
    "#Storing the column names\n",
    "columns_list=list(new_data.columns)\n",
    "print(columns_list)"
   ]
  },
  {
   "cell_type": "code",
   "execution_count": 41,
   "metadata": {},
   "outputs": [
    {
     "name": "stdout",
     "output_type": "stream",
     "text": [
      "['maritalstatus_ Never-married', 'EdType_ 12th', 'occupation_ Transport-moving', 'maritalstatus_ Married-civ-spouse', 'EdType_ Assoc-acdm', 'EdType_ 5th-6th', 'occupation_ Handlers-cleaners', 'occupation_ Other-service', 'occupation_ Sales', 'relationship_ Not-in-family', 'EdType_ Bachelors', 'occupation_ Machine-op-inspct', 'occupation_ Craft-repair', 'EdType_ 9th', 'relationship_ Unmarried', 'EdType_ Prof-school', 'occupation_ Farming-fishing', 'age', 'maritalstatus_ Separated', 'occupation_ Tech-support', 'occupation_ Prof-specialty', 'EdType_ 1st-4th', 'maritalstatus_ Married-spouse-absent', 'occupation_ Armed-Forces', 'EdType_ Masters', 'capitalloss', 'occupation_ Adm-clerical', 'occupation_ Protective-serv', 'relationship_ Own-child', 'maritalstatus_ Married-AF-spouse', 'EdType_ Some-college', 'hoursperweek', 'EdType_ 7th-8th', 'occupation_ Exec-managerial', 'EdType_ 11th', 'EdType_ Doctorate', 'occupation_ Priv-house-serv', 'maritalstatus_ Widowed', 'EdType_ Preschool', 'relationship_ Other-relative', 'EdType_ Assoc-voc', 'capitalgain', 'relationship_ Wife', 'EdType_ HS-grad']\n"
     ]
    }
   ],
   "source": [
    "#Separating the input names from data\n",
    "features=list(set(columns_list)-set(['SalStat']))\n",
    "print(features)"
   ]
  },
  {
   "cell_type": "code",
   "execution_count": 42,
   "metadata": {},
   "outputs": [
    {
     "name": "stdout",
     "output_type": "stream",
     "text": [
      "[0 0 1 ... 0 0 0]\n"
     ]
    }
   ],
   "source": [
    "#Storing the output values to y\n",
    "y=new_data['SalStat'].values\n",
    "print(y)\n"
   ]
  },
  {
   "cell_type": "code",
   "execution_count": 43,
   "metadata": {},
   "outputs": [
    {
     "name": "stdout",
     "output_type": "stream",
     "text": [
      "[[0 0 0 ... 0 0 1]\n",
      " [1 0 0 ... 0 0 1]\n",
      " [0 0 0 ... 0 0 0]\n",
      " ...\n",
      " [0 0 0 ... 0 0 0]\n",
      " [0 0 0 ... 0 1 0]\n",
      " [1 0 0 ... 0 0 0]]\n"
     ]
    }
   ],
   "source": [
    "#Separating the values from input features\n",
    "x=new_data[features].values\n",
    "print(x)"
   ]
  },
  {
   "cell_type": "code",
   "execution_count": 44,
   "metadata": {},
   "outputs": [],
   "source": [
    "#Splitting the data into train and test set\n",
    "train_x,test_x,train_y,test_y=train_test_split(x,y,test_size=0.3,random_state=True)"
   ]
  },
  {
   "cell_type": "code",
   "execution_count": 45,
   "metadata": {},
   "outputs": [],
   "source": [
    "#Make an instance of the Model\n",
    "logistic=LogisticRegression(max_iter=1500)\n"
   ]
  },
  {
   "cell_type": "code",
   "execution_count": 46,
   "metadata": {},
   "outputs": [
    {
     "data": {
      "text/plain": [
       "LogisticRegression(max_iter=1500)"
      ]
     },
     "execution_count": 46,
     "metadata": {},
     "output_type": "execute_result"
    }
   ],
   "source": [
    "#Fitting the values of x and y\n",
    "logistic.fit(train_x,train_y)"
   ]
  },
  {
   "cell_type": "code",
   "execution_count": 47,
   "metadata": {},
   "outputs": [],
   "source": [
    "#Predicting from test data\n",
    "prediction=logistic.predict(test_x)"
   ]
  },
  {
   "cell_type": "code",
   "execution_count": 48,
   "metadata": {},
   "outputs": [
    {
     "name": "stdout",
     "output_type": "stream",
     "text": [
      "0.8475088597039817\n"
     ]
    }
   ],
   "source": [
    "#Calculating the accuracy\n",
    "accuracy_score2=accuracy_score(test_y,prediction)\n",
    "print(accuracy_score2)"
   ]
  },
  {
   "cell_type": "code",
   "execution_count": 49,
   "metadata": {},
   "outputs": [
    {
     "name": "stdout",
     "output_type": "stream",
     "text": [
      "Misclassified samples: 1463 \n"
     ]
    }
   ],
   "source": [
    "#Printing misclassified values from prediction\n",
    "print(\"Misclassified samples: %d \" %(test_y!=prediction).sum())"
   ]
  },
  {
   "cell_type": "markdown",
   "metadata": {},
   "source": [
    "## KNN Model "
   ]
  },
  {
   "cell_type": "code",
   "execution_count": 50,
   "metadata": {},
   "outputs": [],
   "source": [
    "#importing the library of KNN\n",
    "from sklearn.neighbors import KNeighborsClassifier\n",
    "#import library for plotting\n",
    "import matplotlib.pyplot as plt"
   ]
  },
  {
   "cell_type": "code",
   "execution_count": 51,
   "metadata": {},
   "outputs": [],
   "source": [
    "#Storing the k nearest neighbours classifier\n",
    "KNN_classifier=KNeighborsClassifier(n_neighbors=5)"
   ]
  },
  {
   "cell_type": "code",
   "execution_count": 52,
   "metadata": {},
   "outputs": [
    {
     "data": {
      "text/plain": [
       "KNeighborsClassifier()"
      ]
     },
     "execution_count": 52,
     "metadata": {},
     "output_type": "execute_result"
    }
   ],
   "source": [
    "#Fitting the values for x and y\n",
    "train_x,test_x,train_y,test_y=train_test_split(x,y,test_size=0.3,random_state=0)\n",
    "\n",
    "KNN_classifier.fit(train_x,train_y)"
   ]
  },
  {
   "cell_type": "code",
   "execution_count": 53,
   "metadata": {},
   "outputs": [],
   "source": [
    "#Predicting the test values with model\n",
    "prediction=KNN_classifier.predict(test_x)"
   ]
  },
  {
   "cell_type": "code",
   "execution_count": 54,
   "metadata": {},
   "outputs": [
    {
     "name": "stdout",
     "output_type": "stream",
     "text": [
      "\t Predicted values\n",
      "Original values \n",
      " [[6672  664]\n",
      " [ 859 1399]]\n"
     ]
    }
   ],
   "source": [
    "#Performance matrix check\n",
    "confusion_matrix2=confusion_matrix(test_y,prediction)\n",
    "print('\\t','Predicted values')\n",
    "print('Original values','\\n',confusion_matrix2)"
   ]
  },
  {
   "cell_type": "code",
   "execution_count": 55,
   "metadata": {},
   "outputs": [
    {
     "name": "stdout",
     "output_type": "stream",
     "text": [
      "0.8412549510110485\n"
     ]
    }
   ],
   "source": [
    "#Calculatting Accuracy\n",
    "accuracy_score=accuracy_score(test_y,prediction)\n",
    "print(accuracy_score)"
   ]
  },
  {
   "cell_type": "code",
   "execution_count": 56,
   "metadata": {},
   "outputs": [
    {
     "name": "stdout",
     "output_type": "stream",
     "text": [
      "Misclassified Samples: 1523 \n"
     ]
    }
   ],
   "source": [
    "#Misclassified Samples\n",
    "print(\"Misclassified Samples: %d \" % (test_y!=prediction).sum())"
   ]
  },
  {
   "cell_type": "markdown",
   "metadata": {},
   "source": [
    "### Effect of k value on classifier"
   ]
  },
  {
   "cell_type": "code",
   "execution_count": 57,
   "metadata": {},
   "outputs": [
    {
     "name": "stdout",
     "output_type": "stream",
     "text": [
      "[1751, 1509, 1599, 1495, 1523, 1463, 1485, 1468, 1475, 1453, 1490, 1458, 1452, 1433, 1444, 1422, 1428, 1394, 1437]\n"
     ]
    }
   ],
   "source": [
    "Misclassified_Samples=[]\n",
    "#Calculating errors for k values between 1 and 20\n",
    "for i in range(1,20):\n",
    "    knn=KNeighborsClassifier(n_neighbors=i)\n",
    "    knn.fit(train_x,train_y)\n",
    "    pred_i=knn.predict(test_x)\n",
    "    Misclassified_Samples.append((test_y!=pred_i).sum())\n",
    "print(Misclassified_Samples)"
   ]
  },
  {
   "cell_type": "markdown",
   "metadata": {},
   "source": [
    "# End of Script"
   ]
  }
 ],
 "metadata": {
  "interpreter": {
   "hash": "31f2aee4e71d21fbe5cf8b01ff0e069b9275f58929596ceb00d14d90e3e16cd6"
  },
  "kernelspec": {
   "display_name": "Python 3.8.10 64-bit",
   "name": "python3"
  },
  "language_info": {
   "codemirror_mode": {
    "name": "ipython",
    "version": 3
   },
   "file_extension": ".py",
   "mimetype": "text/x-python",
   "name": "python",
   "nbconvert_exporter": "python",
   "pygments_lexer": "ipython3",
   "version": "3.8.10"
  },
  "orig_nbformat": 4
 },
 "nbformat": 4,
 "nbformat_minor": 2
}
