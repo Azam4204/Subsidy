{
 "cells": [
  {
   "cell_type": "markdown",
   "metadata": {},
   "source": [
    "# Developing an Income Classifier System for individuals"
   ]
  },
  {
   "cell_type": "markdown",
   "metadata": {},
   "source": [
    "## Importing necessary packages"
   ]
  },
  {
   "cell_type": "code",
   "execution_count": 3,
   "metadata": {},
   "outputs": [],
   "source": [
    "import pandas as pd\n",
    "import numpy as np\n",
    "import seaborn as sns\n",
    "from sklearn.model_selection import train_test_split\n",
    "from sklearn.linear_model import LogisticRegression\n",
    "from sklearn.metrics import accuracy_score,confusion_matrix\n"
   ]
  },
  {
   "cell_type": "code",
   "execution_count": 4,
   "metadata": {},
   "outputs": [
    {
     "name": "stdout",
     "output_type": "stream",
     "text": [
      "       age       JobType         EdType        maritalstatus  \\\n",
      "0       45       Private        HS-grad             Divorced   \n",
      "1       24   Federal-gov        HS-grad        Never-married   \n",
      "2       44       Private   Some-college   Married-civ-spouse   \n",
      "3       27       Private            9th        Never-married   \n",
      "4       20       Private   Some-college        Never-married   \n",
      "...    ...           ...            ...                  ...   \n",
      "31973   34     Local-gov        HS-grad        Never-married   \n",
      "31974   34     Local-gov   Some-college        Never-married   \n",
      "31975   23       Private   Some-college   Married-civ-spouse   \n",
      "31976   42     Local-gov   Some-college   Married-civ-spouse   \n",
      "31977   29       Private      Bachelors        Never-married   \n",
      "\n",
      "             occupation     relationship    race   gender  capitalgain  \\\n",
      "0          Adm-clerical    Not-in-family   White   Female            0   \n",
      "1          Armed-Forces        Own-child   White     Male            0   \n",
      "2        Prof-specialty          Husband   White     Male            0   \n",
      "3          Craft-repair   Other-relative   White     Male            0   \n",
      "4                 Sales    Not-in-family   White     Male            0   \n",
      "...                 ...              ...     ...      ...          ...   \n",
      "31973   Farming-fishing    Not-in-family   Black     Male          594   \n",
      "31974   Protective-serv    Not-in-family   White   Female            0   \n",
      "31975      Adm-clerical          Husband   White     Male            0   \n",
      "31976      Adm-clerical             Wife   White   Female            0   \n",
      "31977    Prof-specialty    Not-in-family   White     Male            0   \n",
      "\n",
      "       capitalloss  hoursperweek   nativecountry  \\\n",
      "0                0            28   United-States   \n",
      "1                0            40   United-States   \n",
      "2                0            40   United-States   \n",
      "3                0            40          Mexico   \n",
      "4                0            35   United-States   \n",
      "...            ...           ...             ...   \n",
      "31973            0            60   United-States   \n",
      "31974            0            40   United-States   \n",
      "31975            0            40   United-States   \n",
      "31976            0            40   United-States   \n",
      "31977            0            40   United-States   \n",
      "\n",
      "                             SalStat  \n",
      "0       less than or equal to 50,000  \n",
      "1       less than or equal to 50,000  \n",
      "2                greater than 50,000  \n",
      "3       less than or equal to 50,000  \n",
      "4       less than or equal to 50,000  \n",
      "...                              ...  \n",
      "31973   less than or equal to 50,000  \n",
      "31974   less than or equal to 50,000  \n",
      "31975   less than or equal to 50,000  \n",
      "31976   less than or equal to 50,000  \n",
      "31977   less than or equal to 50,000  \n",
      "\n",
      "[31978 rows x 13 columns]\n"
     ]
    }
   ],
   "source": [
    "#Importing data\n",
    "data_income=pd.read_csv('income.csv')\n",
    "print(data_income)"
   ]
  },
  {
   "cell_type": "code",
   "execution_count": 5,
   "metadata": {},
   "outputs": [],
   "source": [
    "#Creating a copy of the original data\n",
    "data=data_income.copy()"
   ]
  },
  {
   "cell_type": "markdown",
   "metadata": {},
   "source": [
    "## Exploratory Data Analysis"
   ]
  },
  {
   "cell_type": "code",
   "execution_count": 6,
   "metadata": {},
   "outputs": [
    {
     "name": "stdout",
     "output_type": "stream",
     "text": [
      "<class 'pandas.core.frame.DataFrame'>\n",
      "RangeIndex: 31978 entries, 0 to 31977\n",
      "Data columns (total 13 columns):\n",
      " #   Column         Non-Null Count  Dtype \n",
      "---  ------         --------------  ----- \n",
      " 0   age            31978 non-null  int64 \n",
      " 1   JobType        31978 non-null  object\n",
      " 2   EdType         31978 non-null  object\n",
      " 3   maritalstatus  31978 non-null  object\n",
      " 4   occupation     31978 non-null  object\n",
      " 5   relationship   31978 non-null  object\n",
      " 6   race           31978 non-null  object\n",
      " 7   gender         31978 non-null  object\n",
      " 8   capitalgain    31978 non-null  int64 \n",
      " 9   capitalloss    31978 non-null  int64 \n",
      " 10  hoursperweek   31978 non-null  int64 \n",
      " 11  nativecountry  31978 non-null  object\n",
      " 12  SalStat        31978 non-null  object\n",
      "dtypes: int64(4), object(9)\n",
      "memory usage: 3.2+ MB\n",
      "None\n"
     ]
    }
   ],
   "source": [
    "#Getting to know the data\n",
    "print(data.info()) #To check variables data type"
   ]
  },
  {
   "cell_type": "code",
   "execution_count": 7,
   "metadata": {},
   "outputs": [
    {
     "name": "stdout",
     "output_type": "stream",
     "text": [
      "         age  JobType  EdType  maritalstatus  occupation  relationship   race  \\\n",
      "0      False    False   False          False       False         False  False   \n",
      "1      False    False   False          False       False         False  False   \n",
      "2      False    False   False          False       False         False  False   \n",
      "3      False    False   False          False       False         False  False   \n",
      "4      False    False   False          False       False         False  False   \n",
      "...      ...      ...     ...            ...         ...           ...    ...   \n",
      "31973  False    False   False          False       False         False  False   \n",
      "31974  False    False   False          False       False         False  False   \n",
      "31975  False    False   False          False       False         False  False   \n",
      "31976  False    False   False          False       False         False  False   \n",
      "31977  False    False   False          False       False         False  False   \n",
      "\n",
      "       gender  capitalgain  capitalloss  hoursperweek  nativecountry  SalStat  \n",
      "0       False        False        False         False          False    False  \n",
      "1       False        False        False         False          False    False  \n",
      "2       False        False        False         False          False    False  \n",
      "3       False        False        False         False          False    False  \n",
      "4       False        False        False         False          False    False  \n",
      "...       ...          ...          ...           ...            ...      ...  \n",
      "31973   False        False        False         False          False    False  \n",
      "31974   False        False        False         False          False    False  \n",
      "31975   False        False        False         False          False    False  \n",
      "31976   False        False        False         False          False    False  \n",
      "31977   False        False        False         False          False    False  \n",
      "\n",
      "[31978 rows x 13 columns]\n"
     ]
    }
   ],
   "source": [
    "#Checking for the missing values\n",
    "print(data.isnull())"
   ]
  },
  {
   "cell_type": "code",
   "execution_count": 8,
   "metadata": {},
   "outputs": [
    {
     "name": "stdout",
     "output_type": "stream",
     "text": [
      "Data columns with null values: \n",
      " age              0\n",
      "JobType          0\n",
      "EdType           0\n",
      "maritalstatus    0\n",
      "occupation       0\n",
      "relationship     0\n",
      "race             0\n",
      "gender           0\n",
      "capitalgain      0\n",
      "capitalloss      0\n",
      "hoursperweek     0\n",
      "nativecountry    0\n",
      "SalStat          0\n",
      "dtype: int64\n"
     ]
    }
   ],
   "source": [
    "print(\"Data columns with null values: \\n\",data.isnull().sum())"
   ]
  },
  {
   "cell_type": "code",
   "execution_count": 9,
   "metadata": {},
   "outputs": [
    {
     "name": "stdout",
     "output_type": "stream",
     "text": [
      "                age   capitalgain   capitalloss  hoursperweek\n",
      "count  31978.000000  31978.000000  31978.000000  31978.000000\n",
      "mean      38.579023   1064.360623     86.739352     40.417850\n",
      "std       13.662085   7298.596271    401.594301     12.345285\n",
      "min       17.000000      0.000000      0.000000      1.000000\n",
      "25%       28.000000      0.000000      0.000000     40.000000\n",
      "50%       37.000000      0.000000      0.000000     40.000000\n",
      "75%       48.000000      0.000000      0.000000     45.000000\n",
      "max       90.000000  99999.000000   4356.000000     99.000000\n"
     ]
    }
   ],
   "source": [
    "#Summary of numerical variables\n",
    "summary_sum=data.describe()\n",
    "print(summary_sum)"
   ]
  },
  {
   "cell_type": "code",
   "execution_count": 10,
   "metadata": {},
   "outputs": [
    {
     "name": "stdout",
     "output_type": "stream",
     "text": [
      "         JobType    EdType        maritalstatus       occupation relationship  \\\n",
      "count      31978     31978                31978            31978        31978   \n",
      "unique         9        16                    7               15            6   \n",
      "top      Private   HS-grad   Married-civ-spouse   Prof-specialty      Husband   \n",
      "freq       22286     10368                14692             4038        12947   \n",
      "\n",
      "          race gender   nativecountry                        SalStat  \n",
      "count    31978  31978           31978                          31978  \n",
      "unique       5      2              41                              2  \n",
      "top      White   Male   United-States   less than or equal to 50,000  \n",
      "freq     27430  21370           29170                          24283  \n"
     ]
    }
   ],
   "source": [
    "#Summary of categorical variables\n",
    "summary_cate=data.describe(include='O')\n",
    "print(summary_cate)"
   ]
  },
  {
   "cell_type": "code",
   "execution_count": 11,
   "metadata": {},
   "outputs": [
    {
     "name": "stdout",
     "output_type": "stream",
     "text": [
      " Private             22286\n",
      " Self-emp-not-inc     2499\n",
      " Local-gov            2067\n",
      " ?                    1809\n",
      " State-gov            1279\n",
      " Self-emp-inc         1074\n",
      " Federal-gov           943\n",
      " Without-pay            14\n",
      " Never-worked            7\n",
      "Name: JobType, dtype: int64\n",
      " Prof-specialty       4038\n",
      " Craft-repair         4030\n",
      " Exec-managerial      3992\n",
      " Adm-clerical         3721\n",
      " Sales                3584\n",
      " Other-service        3212\n",
      " Machine-op-inspct    1966\n",
      " ?                    1816\n",
      " Transport-moving     1572\n",
      " Handlers-cleaners    1350\n",
      " Farming-fishing       989\n",
      " Tech-support          912\n",
      " Protective-serv       644\n",
      " Priv-house-serv       143\n",
      " Armed-Forces            9\n",
      "Name: occupation, dtype: int64\n"
     ]
    }
   ],
   "source": [
    "#Frequency of each category\n",
    "print(data['JobType'].value_counts())\n",
    "print(data['occupation'].value_counts())"
   ]
  },
  {
   "cell_type": "code",
   "execution_count": 12,
   "metadata": {},
   "outputs": [
    {
     "name": "stdout",
     "output_type": "stream",
     "text": [
      "[' ?' ' Federal-gov' ' Local-gov' ' Never-worked' ' Private'\n",
      " ' Self-emp-inc' ' Self-emp-not-inc' ' State-gov' ' Without-pay']\n",
      "[' ?' ' Adm-clerical' ' Armed-Forces' ' Craft-repair' ' Exec-managerial'\n",
      " ' Farming-fishing' ' Handlers-cleaners' ' Machine-op-inspct'\n",
      " ' Other-service' ' Priv-house-serv' ' Prof-specialty' ' Protective-serv'\n",
      " ' Sales' ' Tech-support' ' Transport-moving']\n"
     ]
    }
   ],
   "source": [
    "#Checking for unique values\n",
    "print(np.unique(data['JobType']))\n",
    "print(np.unique(data['occupation'])) #There exists '?' instead of nan"
   ]
  },
  {
   "cell_type": "code",
   "execution_count": 13,
   "metadata": {},
   "outputs": [],
   "source": [
    "#Go back and read data by including \"na_values['?']\" to consider '?' as nan\n",
    "data=pd.read_csv('income.csv',na_values=['?'])"
   ]
  },
  {
   "cell_type": "code",
   "execution_count": 14,
   "metadata": {},
   "outputs": [
    {
     "name": "stdout",
     "output_type": "stream",
     "text": [
      "age              0\n",
      "JobType          0\n",
      "EdType           0\n",
      "maritalstatus    0\n",
      "occupation       0\n",
      "relationship     0\n",
      "race             0\n",
      "gender           0\n",
      "capitalgain      0\n",
      "capitalloss      0\n",
      "hoursperweek     0\n",
      "nativecountry    0\n",
      "SalStat          0\n",
      "dtype: int64\n"
     ]
    }
   ],
   "source": [
    "#Data preprocessing\n",
    "print(data.isnull().sum())\n"
   ]
  },
  {
   "cell_type": "code",
   "execution_count": 15,
   "metadata": {},
   "outputs": [],
   "source": [
    "missing=data[data.isnull().any(axis=1)]\n",
    "#axis=1 to consider at least one column is missing"
   ]
  },
  {
   "cell_type": "code",
   "execution_count": 16,
   "metadata": {},
   "outputs": [],
   "source": [
    "data2=data.dropna(axis=0) #dropping the rows with missing values"
   ]
  },
  {
   "cell_type": "code",
   "execution_count": 17,
   "metadata": {},
   "outputs": [],
   "source": [
    "#Relationship between independent variables\n",
    "correlation=data2.corr()"
   ]
  },
  {
   "cell_type": "markdown",
   "metadata": {},
   "source": [
    "## Cross table and Data Visualization"
   ]
  },
  {
   "cell_type": "code",
   "execution_count": 18,
   "metadata": {},
   "outputs": [
    {
     "name": "stdout",
     "output_type": "stream",
     "text": [
      "Index(['age', 'JobType', 'EdType', 'maritalstatus', 'occupation',\n",
      "       'relationship', 'race', 'gender', 'capitalgain', 'capitalloss',\n",
      "       'hoursperweek', 'nativecountry', 'SalStat'],\n",
      "      dtype='object')\n"
     ]
    }
   ],
   "source": [
    "#Extracting the column names\n",
    "print(data2.columns)"
   ]
  },
  {
   "cell_type": "code",
   "execution_count": 19,
   "metadata": {},
   "outputs": [
    {
     "name": "stdout",
     "output_type": "stream",
     "text": [
      "col_0       count\n",
      "gender           \n",
      " Female  0.331728\n",
      " Male    0.668272\n"
     ]
    }
   ],
   "source": [
    "#Gender proportion table\n",
    "gender=pd.crosstab(index=data2['gender'],columns='count',normalize=True)\n",
    "print(gender)"
   ]
  },
  {
   "cell_type": "code",
   "execution_count": 20,
   "metadata": {},
   "outputs": [
    {
     "name": "stdout",
     "output_type": "stream",
     "text": [
      "SalStat   greater than 50,000   less than or equal to 50,000\n",
      "gender                                                      \n",
      " Female              0.109540                       0.890460\n",
      " Male                0.305709                       0.694291\n",
      "All                  0.240634                       0.759366\n"
     ]
    }
   ],
   "source": [
    "#Gender vs Salary Status\n",
    "gender_salstat=pd.crosstab(index=data2['gender'],columns=data2['SalStat'],margins=True,normalize='index')\n",
    "print(gender_salstat)"
   ]
  },
  {
   "cell_type": "code",
   "execution_count": 21,
   "metadata": {},
   "outputs": [
    {
     "name": "stderr",
     "output_type": "stream",
     "text": [
      "/home/techie/.local/lib/python3.8/site-packages/seaborn/_decorators.py:36: FutureWarning: Pass the following variable as a keyword arg: x. From version 0.12, the only valid positional argument will be `data`, and passing other arguments without an explicit keyword will result in an error or misinterpretation.\n",
      "  warnings.warn(\n"
     ]
    },
    {
     "data": {
      "image/png": "[encoded data removed]",
      "text/plain": [
       "<Figure size 432x288 with 1 Axes>"
      ]
     },
     "metadata": {
      "needs_background": "light"
     },
     "output_type": "display_data"
    }
   ],
   "source": [
    "#Frequency Distribution of Salary Status\n",
    "SalStat=sns.countplot(data2['SalStat'])"
   ]
  },
  {
   "cell_type": "code",
   "execution_count": 22,
   "metadata": {},
   "outputs": [
    {
     "name": "stderr",
     "output_type": "stream",
     "text": [
      "/home/techie/.local/lib/python3.8/site-packages/seaborn/distributions.py:2619: FutureWarning: `distplot` is a deprecated function and will be removed in a future version. Please adapt your code to use either `displot` (a figure-level function with similar flexibility) or `histplot` (an axes-level function for histograms).\n",
      "  warnings.warn(msg, FutureWarning)\n"
     ]
    },
    {
     "data": {
      "text/plain": [
       "<AxesSubplot:xlabel='age'>"
      ]
     },
     "execution_count": 22,
     "metadata": {},
     "output_type": "execute_result"
    },
    {
     "data": {
      "image/png": "[encoded data removed]",
      "text/plain": [
       "<Figure size 432x288 with 1 Axes>"
      ]
     },
     "metadata": {
      "needs_background": "light"
     },
     "output_type": "display_data"
    }
   ],
   "source": [
    "#Histogram of age\n",
    "sns.distplot(data2['age'],bins=10,kde=False)\n",
    "#People with age 20-45 are high in frequency"
   ]
  },
  {
   "cell_type": "code",
   "execution_count": 23,
   "metadata": {},
   "outputs": [
    {
     "name": "stderr",
     "output_type": "stream",
     "text": [
      "/home/techie/.local/lib/python3.8/site-packages/seaborn/_decorators.py:36: FutureWarning: Pass the following variables as keyword args: x, y. From version 0.12, the only valid positional argument will be `data`, and passing other arguments without an explicit keyword will result in an error or misinterpretation.\n",
      "  warnings.warn(\n"
     ]
    },
    {
     "data": {
      "text/plain": [
       "SalStat\n",
       " greater than 50,000             44.0\n",
       " less than or equal to 50,000    34.0\n",
       "Name: age, dtype: float64"
      ]
     },
     "execution_count": 23,
     "metadata": {},
     "output_type": "execute_result"
    },
    {
     "data": {
      "image/png": "[encoded data removed]",
      "text/plain": [
       "<Figure size 432x288 with 1 Axes>"
      ]
     },
     "metadata": {
      "needs_background": "light"
     },
     "output_type": "display_data"
    }
   ],
   "source": [
    "#Box Plot - Age vs Salary Status\n",
    "sns.boxplot('SalStat','age',data=data2)\n",
    "data2.groupby('SalStat')['age'].median()"
   ]
  },
  {
   "cell_type": "markdown",
   "metadata": {},
   "source": [
    "## Logistic Regression"
   ]
  },
  {
   "cell_type": "code",
   "execution_count": 24,
   "metadata": {},
   "outputs": [
    {
     "name": "stdout",
     "output_type": "stream",
     "text": [
      "0        0\n",
      "1        0\n",
      "2        1\n",
      "3        0\n",
      "4        0\n",
      "        ..\n",
      "31973    0\n",
      "31974    0\n",
      "31975    0\n",
      "31976    0\n",
      "31977    0\n",
      "Name: SalStat, Length: 31978, dtype: int64\n"
     ]
    }
   ],
   "source": [
    "#Reindexing the salary status names to 0,1\n",
    "#data2['SalStat']=data2['SalStat'].map({'less than or equal to 50,000':0,'greater than 50,000':1})\n",
    "data2['SalStat']=np.where(data2['SalStat'].str.contains('less than or equal to 50,000'),0,1)\n",
    "print(data2['SalStat'])"
   ]
  },
  {
   "cell_type": "code",
   "execution_count": 25,
   "metadata": {},
   "outputs": [
    {
     "name": "stdout",
     "output_type": "stream",
     "text": [
      "       age  capitalgain  capitalloss  hoursperweek  SalStat  \\\n",
      "0       45            0            0            28        0   \n",
      "1       24            0            0            40        0   \n",
      "2       44            0            0            40        1   \n",
      "3       27            0            0            40        0   \n",
      "4       20            0            0            35        0   \n",
      "...    ...          ...          ...           ...      ...   \n",
      "31973   34          594            0            60        0   \n",
      "31974   34            0            0            40        0   \n",
      "31975   23            0            0            40        0   \n",
      "31976   42            0            0            40        0   \n",
      "31977   29            0            0            40        0   \n",
      "\n",
      "       JobType_ Federal-gov  JobType_ Local-gov  JobType_ Never-worked  \\\n",
      "0                         0                   0                      0   \n",
      "1                         1                   0                      0   \n",
      "2                         0                   0                      0   \n",
      "3                         0                   0                      0   \n",
      "4                         0                   0                      0   \n",
      "...                     ...                 ...                    ...   \n",
      "31973                     0                   1                      0   \n",
      "31974                     0                   1                      0   \n",
      "31975                     0                   0                      0   \n",
      "31976                     0                   1                      0   \n",
      "31977                     0                   0                      0   \n",
      "\n",
      "       JobType_ Private  JobType_ Self-emp-inc  ...  nativecountry_ Portugal  \\\n",
      "0                     1                      0  ...                        0   \n",
      "1                     0                      0  ...                        0   \n",
      "2                     1                      0  ...                        0   \n",
      "3                     1                      0  ...                        0   \n",
      "4                     1                      0  ...                        0   \n",
      "...                 ...                    ...  ...                      ...   \n",
      "31973                 0                      0  ...                        0   \n",
      "31974                 0                      0  ...                        0   \n",
      "31975                 1                      0  ...                        0   \n",
      "31976                 0                      0  ...                        0   \n",
      "31977                 1                      0  ...                        0   \n",
      "\n",
      "       nativecountry_ Puerto-Rico  nativecountry_ Scotland  \\\n",
      "0                               0                        0   \n",
      "1                               0                        0   \n",
      "2                               0                        0   \n",
      "3                               0                        0   \n",
      "4                               0                        0   \n",
      "...                           ...                      ...   \n",
      "31973                           0                        0   \n",
      "31974                           0                        0   \n",
      "31975                           0                        0   \n",
      "31976                           0                        0   \n",
      "31977                           0                        0   \n",
      "\n",
      "       nativecountry_ South  nativecountry_ Taiwan  nativecountry_ Thailand  \\\n",
      "0                         0                      0                        0   \n",
      "1                         0                      0                        0   \n",
      "2                         0                      0                        0   \n",
      "3                         0                      0                        0   \n",
      "4                         0                      0                        0   \n",
      "...                     ...                    ...                      ...   \n",
      "31973                     0                      0                        0   \n",
      "31974                     0                      0                        0   \n",
      "31975                     0                      0                        0   \n",
      "31976                     0                      0                        0   \n",
      "31977                     0                      0                        0   \n",
      "\n",
      "       nativecountry_ Trinadad&Tobago  nativecountry_ United-States  \\\n",
      "0                                   0                             1   \n",
      "1                                   0                             1   \n",
      "2                                   0                             1   \n",
      "3                                   0                             0   \n",
      "4                                   0                             1   \n",
      "...                               ...                           ...   \n",
      "31973                               0                             1   \n",
      "31974                               0                             1   \n",
      "31975                               0                             1   \n",
      "31976                               0                             1   \n",
      "31977                               0                             1   \n",
      "\n",
      "       nativecountry_ Vietnam  nativecountry_ Yugoslavia  \n",
      "0                           0                          0  \n",
      "1                           0                          0  \n",
      "2                           0                          0  \n",
      "3                           0                          0  \n",
      "4                           0                          0  \n",
      "...                       ...                        ...  \n",
      "31973                       0                          0  \n",
      "31974                       0                          0  \n",
      "31975                       0                          0  \n",
      "31976                       0                          0  \n",
      "31977                       0                          0  \n",
      "\n",
      "[31978 rows x 98 columns]\n"
     ]
    }
   ],
   "source": [
    "#Dummy Analysis\n",
    "new_data=pd.get_dummies(data2,drop_first=True)\n",
    "print(new_data)"
   ]
  },
  {
   "cell_type": "code",
   "execution_count": 26,
   "metadata": {},
   "outputs": [
    {
     "name": "stdout",
     "output_type": "stream",
     "text": [
      "['age', 'capitalgain', 'capitalloss', 'hoursperweek', 'SalStat', 'JobType_ Federal-gov', 'JobType_ Local-gov', 'JobType_ Never-worked', 'JobType_ Private', 'JobType_ Self-emp-inc', 'JobType_ Self-emp-not-inc', 'JobType_ State-gov', 'JobType_ Without-pay', 'EdType_ 11th', 'EdType_ 12th', 'EdType_ 1st-4th', 'EdType_ 5th-6th', 'EdType_ 7th-8th', 'EdType_ 9th', 'EdType_ Assoc-acdm', 'EdType_ Assoc-voc', 'EdType_ Bachelors', 'EdType_ Doctorate', 'EdType_ HS-grad', 'EdType_ Masters', 'EdType_ Preschool', 'EdType_ Prof-school', 'EdType_ Some-college', 'maritalstatus_ Married-AF-spouse', 'maritalstatus_ Married-civ-spouse', 'maritalstatus_ Married-spouse-absent', 'maritalstatus_ Never-married', 'maritalstatus_ Separated', 'maritalstatus_ Widowed', 'occupation_ Adm-clerical', 'occupation_ Armed-Forces', 'occupation_ Craft-repair', 'occupation_ Exec-managerial', 'occupation_ Farming-fishing', 'occupation_ Handlers-cleaners', 'occupation_ Machine-op-inspct', 'occupation_ Other-service', 'occupation_ Priv-house-serv', 'occupation_ Prof-specialty', 'occupation_ Protective-serv', 'occupation_ Sales', 'occupation_ Tech-support', 'occupation_ Transport-moving', 'relationship_ Not-in-family', 'relationship_ Other-relative', 'relationship_ Own-child', 'relationship_ Unmarried', 'relationship_ Wife', 'race_ Asian-Pac-Islander', 'race_ Black', 'race_ Other', 'race_ White', 'gender_ Male', 'nativecountry_ Canada', 'nativecountry_ China', 'nativecountry_ Columbia', 'nativecountry_ Cuba', 'nativecountry_ Dominican-Republic', 'nativecountry_ Ecuador', 'nativecountry_ El-Salvador', 'nativecountry_ England', 'nativecountry_ France', 'nativecountry_ Germany', 'nativecountry_ Greece', 'nativecountry_ Guatemala', 'nativecountry_ Haiti', 'nativecountry_ Holand-Netherlands', 'nativecountry_ Honduras', 'nativecountry_ Hong', 'nativecountry_ Hungary', 'nativecountry_ India', 'nativecountry_ Iran', 'nativecountry_ Ireland', 'nativecountry_ Italy', 'nativecountry_ Jamaica', 'nativecountry_ Japan', 'nativecountry_ Laos', 'nativecountry_ Mexico', 'nativecountry_ Nicaragua', 'nativecountry_ Outlying-US(Guam-USVI-etc)', 'nativecountry_ Peru', 'nativecountry_ Philippines', 'nativecountry_ Poland', 'nativecountry_ Portugal', 'nativecountry_ Puerto-Rico', 'nativecountry_ Scotland', 'nativecountry_ South', 'nativecountry_ Taiwan', 'nativecountry_ Thailand', 'nativecountry_ Trinadad&Tobago', 'nativecountry_ United-States', 'nativecountry_ Vietnam', 'nativecountry_ Yugoslavia']\n"
     ]
    }
   ],
   "source": [
    "#Storing the column names\n",
    "columns_list=list(new_data.columns)\n",
    "print(columns_list)"
   ]
  },
  {
   "cell_type": "code",
   "execution_count": 27,
   "metadata": {},
   "outputs": [
    {
     "name": "stdout",
     "output_type": "stream",
     "text": [
      "['EdType_ Preschool', 'occupation_ Tech-support', 'nativecountry_ Holand-Netherlands', 'nativecountry_ Puerto-Rico', 'nativecountry_ Guatemala', 'maritalstatus_ Married-civ-spouse', 'nativecountry_ Peru', 'JobType_ Self-emp-not-inc', 'EdType_ Bachelors', 'capitalloss', 'nativecountry_ Canada', 'nativecountry_ Haiti', 'maritalstatus_ Married-AF-spouse', 'occupation_ Craft-repair', 'EdType_ Masters', 'nativecountry_ United-States', 'nativecountry_ Cuba', 'nativecountry_ Hungary', 'nativecountry_ Italy', 'relationship_ Other-relative', 'occupation_ Other-service', 'EdType_ 11th', 'occupation_ Sales', 'maritalstatus_ Separated', 'relationship_ Unmarried', 'JobType_ Self-emp-inc', 'nativecountry_ England', 'nativecountry_ Mexico', 'EdType_ Prof-school', 'age', 'occupation_ Exec-managerial', 'nativecountry_ Thailand', 'EdType_ 1st-4th', 'nativecountry_ Jamaica', 'occupation_ Transport-moving', 'nativecountry_ Scotland', 'EdType_ Doctorate', 'gender_ Male', 'maritalstatus_ Never-married', 'EdType_ Assoc-acdm', 'occupation_ Armed-Forces', 'nativecountry_ Poland', 'occupation_ Priv-house-serv', 'EdType_ Some-college', 'occupation_ Adm-clerical', 'relationship_ Own-child', 'nativecountry_ El-Salvador', 'nativecountry_ Laos', 'occupation_ Machine-op-inspct', 'nativecountry_ Ecuador', 'JobType_ Never-worked', 'relationship_ Wife', 'nativecountry_ Dominican-Republic', 'occupation_ Farming-fishing', 'nativecountry_ France', 'nativecountry_ Outlying-US(Guam-USVI-etc)', 'EdType_ HS-grad', 'nativecountry_ Greece', 'EdType_ 9th', 'JobType_ Private', 'EdType_ 12th', 'nativecountry_ Philippines', 'nativecountry_ Japan', 'race_ Asian-Pac-Islander', 'nativecountry_ Nicaragua', 'race_ Black', 'hoursperweek', 'maritalstatus_ Widowed', 'JobType_ Federal-gov', 'race_ White', 'nativecountry_ South', 'nativecountry_ China', 'maritalstatus_ Married-spouse-absent', 'nativecountry_ Ireland', 'EdType_ 5th-6th', 'JobType_ Local-gov', 'JobType_ State-gov', 'nativecountry_ Taiwan', 'occupation_ Protective-serv', 'nativecountry_ Vietnam', 'nativecountry_ Germany', 'relationship_ Not-in-family', 'nativecountry_ Honduras', 'nativecountry_ Iran', 'race_ Other', 'nativecountry_ Hong', 'nativecountry_ India', 'JobType_ Without-pay', 'nativecountry_ Portugal', 'EdType_ 7th-8th', 'nativecountry_ Yugoslavia', 'EdType_ Assoc-voc', 'occupation_ Handlers-cleaners', 'nativecountry_ Columbia', 'capitalgain', 'occupation_ Prof-specialty', 'nativecountry_ Trinadad&Tobago']\n"
     ]
    }
   ],
   "source": [
    "#Separating the input names from data\n",
    "features=list(set(columns_list)-set(['SalStat']))\n",
    "print(features)"
   ]
  },
  {
   "cell_type": "code",
   "execution_count": 28,
   "metadata": {},
   "outputs": [
    {
     "name": "stdout",
     "output_type": "stream",
     "text": [
      "[0 0 1 ... 0 0 0]\n"
     ]
    }
   ],
   "source": [
    "#Storing the output values in y\n",
    "y=new_data['SalStat'].values\n",
    "print(y)"
   ]
  },
  {
   "cell_type": "code",
   "execution_count": 29,
   "metadata": {},
   "outputs": [
    {
     "name": "stdout",
     "output_type": "stream",
     "text": [
      "[[0 0 0 ... 0 0 0]\n",
      " [0 0 0 ... 0 0 0]\n",
      " [0 0 0 ... 0 1 0]\n",
      " ...\n",
      " [0 0 0 ... 0 0 0]\n",
      " [0 0 0 ... 0 0 0]\n",
      " [0 0 0 ... 0 1 0]]\n"
     ]
    }
   ],
   "source": [
    "#Storing the values from input features\n",
    "x=new_data[features].values\n",
    "print(x)"
   ]
  },
  {
   "cell_type": "code",
   "execution_count": 30,
   "metadata": {},
   "outputs": [],
   "source": [
    "#Splitting the data into train and test\n",
    "train_x,test_x,train_y,test_y=train_test_split(x,y,test_size=0.3,random_state=0)\n"
   ]
  },
  {
   "cell_type": "code",
   "execution_count": 31,
   "metadata": {},
   "outputs": [],
   "source": [
    "#Make an instance of the Model\n",
    "logistic=LogisticRegression()\n"
   ]
  },
  {
   "cell_type": "code",
   "execution_count": 32,
   "metadata": {},
   "outputs": [
    {
     "name": "stdout",
     "output_type": "stream",
     "text": [
      "[[-3.65429716e-02  2.00640619e-01 -1.07012037e-03 -5.13909803e-02\n",
      "  -2.46531839e-02  1.06887616e+00 -1.35437088e-02 -5.70466331e-01\n",
      "   7.30501925e-01  5.29975168e-04 -1.53236371e-03 -2.01687563e-02\n",
      "   2.13348495e-02 -3.50948551e-01  6.67695176e-01 -3.21035503e-01\n",
      "  -1.76589683e-02 -1.16333520e-04 -4.57784054e-03 -3.17938048e-01\n",
      "  -7.98360304e-01 -4.26862019e-01  2.53163041e-01 -2.04779920e-01\n",
      "  -6.82981684e-01  2.00648127e-01  1.23825009e-03 -3.81745189e-01\n",
      "   3.09730198e-01  4.78436217e-04  1.02690315e+00 -9.09486508e-03\n",
      "  -1.00641209e-01 -3.03597760e-02 -2.16629926e-01 -4.07412758e-03\n",
      "   3.03976053e-01  7.21096976e-02 -1.42467473e+00 -2.41268999e-05\n",
      "  -4.61518807e-03 -2.28300926e-02 -4.71833290e-02 -3.08799035e-01\n",
      "  -2.95301541e-01 -1.12141688e+00 -4.89060795e-02 -1.16685596e-02\n",
      "  -4.11999513e-01 -8.80419230e-03 -3.50068070e-03  3.31490672e-01\n",
      "  -3.49883669e-02 -4.37997526e-01  1.33199378e-02 -6.46334369e-03\n",
      "  -1.00497100e+00 -1.89700495e-02 -2.52867712e-01 -5.56000098e-02\n",
      "  -1.39074043e-01 -3.29200988e-02 -7.29008170e-04 -2.21540337e-01\n",
      "  -2.41112176e-02 -4.84733195e-01  1.12005576e-02 -1.34938388e-01\n",
      "   1.68657562e-01 -3.59336677e-01 -4.82174815e-02 -3.53125916e-02\n",
      "  -9.37207807e-02 -2.14622567e-04 -2.10704486e-01 -2.13401992e-01\n",
      "  -1.49508004e-01 -7.99515499e-03  6.80765240e-03 -4.00397929e-02\n",
      "   1.11917606e-02 -3.74927719e-01 -4.31846209e-03 -3.99971024e-03\n",
      "  -1.21125116e-01 -7.50302934e-03 -1.64155913e-02 -8.54480472e-03\n",
      "  -2.73095587e-02 -4.00746559e-01  1.28765273e-03 -6.84457154e-02\n",
      "  -3.87972566e-01 -2.86381912e-02  3.31477468e-04  8.35278525e-01\n",
      "  -9.54189803e-03]]\n",
      "[-1.30281396]\n"
     ]
    },
    {
     "name": "stderr",
     "output_type": "stream",
     "text": [
      "/home/techie/.local/lib/python3.8/site-packages/sklearn/linear_model/_logistic.py:763: ConvergenceWarning: lbfgs failed to converge (status=1):\n",
      "STOP: TOTAL NO. of ITERATIONS REACHED LIMIT.\n",
      "\n",
      "Increase the number of iterations (max_iter) or scale the data as shown in:\n",
      "    https://scikit-learn.org/stable/modules/preprocessing.html\n",
      "Please also refer to the documentation for alternative solver options:\n",
      "    https://scikit-learn.org/stable/modules/linear_model.html#logistic-regression\n",
      "  n_iter_i = _check_optimize_result(\n"
     ]
    }
   ],
   "source": [
    "#Fitting the values of x and y\n",
    "logistic.fit(train_x,train_y)\n",
    "print(logistic.coef_)\n",
    "print(logistic.intercept_)\n",
    " "
   ]
  },
  {
   "cell_type": "code",
   "execution_count": 33,
   "metadata": {},
   "outputs": [
    {
     "name": "stdout",
     "output_type": "stream",
     "text": [
      "[0 0 0 ... 0 0 0]\n"
     ]
    }
   ],
   "source": [
    "#Prediction from test data\n",
    "prediction=logistic.predict(test_x)\n",
    "print(prediction)"
   ]
  },
  {
   "cell_type": "code",
   "execution_count": 34,
   "metadata": {},
   "outputs": [
    {
     "name": "stdout",
     "output_type": "stream",
     "text": [
      "[[6827  509]\n",
      " [ 932 1326]]\n"
     ]
    }
   ],
   "source": [
    "#Confusion matrix\n",
    "confusion_matrix1=confusion_matrix(test_y,prediction)\n",
    "print(confusion_matrix1)"
   ]
  },
  {
   "cell_type": "code",
   "execution_count": 35,
   "metadata": {},
   "outputs": [
    {
     "name": "stdout",
     "output_type": "stream",
     "text": [
      "0.8498019595580572\n"
     ]
    }
   ],
   "source": [
    "#Calculating the accuracy\n",
    "accuracy_score1=accuracy_score(test_y,prediction)\n",
    "print(accuracy_score1)"
   ]
  },
  {
   "cell_type": "code",
   "execution_count": 36,
   "metadata": {},
   "outputs": [
    {
     "name": "stdout",
     "output_type": "stream",
     "text": [
      "Misclassified samples : 1441 \n"
     ]
    }
   ],
   "source": [
    "#Printing misclassified values from prediction\n",
    "print(\"Misclassified samples : %d \" % (test_y!=prediction).sum())"
   ]
  },
  {
   "cell_type": "markdown",
   "metadata": {},
   "source": [
    "### Logistic Regression - Removing insignificant variables"
   ]
  },
  {
   "cell_type": "code",
   "execution_count": 37,
   "metadata": {},
   "outputs": [],
   "source": [
    "#Reindexing the salary status names to 0,1\n",
    "#data2['SalStat']=data2['SalStat'].map({' less than or equal to 50,000':0,' greater than 50,000':1})\n",
    "#data2['SalStat']=np.where(data2['SalStat'].str.contains('less than or equal to 50,000'),0,1)\n",
    "\n",
    "#print(data2['SalStat'])"
   ]
  },
  {
   "cell_type": "code",
   "execution_count": 38,
   "metadata": {},
   "outputs": [],
   "source": [
    "cols=['gender','nativecountry','race','JobType']\n",
    "new_data=data2.drop(cols,axis=1)"
   ]
  },
  {
   "cell_type": "code",
   "execution_count": 39,
   "metadata": {},
   "outputs": [],
   "source": [
    "new_data=pd.get_dummies(new_data,drop_first=True)"
   ]
  },
  {
   "cell_type": "code",
   "execution_count": 40,
   "metadata": {},
   "outputs": [
    {
     "name": "stdout",
     "output_type": "stream",
     "text": [
      "['age', 'capitalgain', 'capitalloss', 'hoursperweek', 'SalStat', 'EdType_ 11th', 'EdType_ 12th', 'EdType_ 1st-4th', 'EdType_ 5th-6th', 'EdType_ 7th-8th', 'EdType_ 9th', 'EdType_ Assoc-acdm', 'EdType_ Assoc-voc', 'EdType_ Bachelors', 'EdType_ Doctorate', 'EdType_ HS-grad', 'EdType_ Masters', 'EdType_ Preschool', 'EdType_ Prof-school', 'EdType_ Some-college', 'maritalstatus_ Married-AF-spouse', 'maritalstatus_ Married-civ-spouse', 'maritalstatus_ Married-spouse-absent', 'maritalstatus_ Never-married', 'maritalstatus_ Separated', 'maritalstatus_ Widowed', 'occupation_ Adm-clerical', 'occupation_ Armed-Forces', 'occupation_ Craft-repair', 'occupation_ Exec-managerial', 'occupation_ Farming-fishing', 'occupation_ Handlers-cleaners', 'occupation_ Machine-op-inspct', 'occupation_ Other-service', 'occupation_ Priv-house-serv', 'occupation_ Prof-specialty', 'occupation_ Protective-serv', 'occupation_ Sales', 'occupation_ Tech-support', 'occupation_ Transport-moving', 'relationship_ Not-in-family', 'relationship_ Other-relative', 'relationship_ Own-child', 'relationship_ Unmarried', 'relationship_ Wife']\n"
     ]
    }
   ],
   "source": [
    "#Storing the column names\n",
    "columns_list=list(new_data.columns)\n",
    "print(columns_list)"
   ]
  },
  {
   "cell_type": "code",
   "execution_count": 41,
   "metadata": {},
   "outputs": [
    {
     "name": "stdout",
     "output_type": "stream",
     "text": [
      "['EdType_ Preschool', 'EdType_ Some-college', 'occupation_ Adm-clerical', 'occupation_ Tech-support', 'occupation_ Machine-op-inspct', 'relationship_ Own-child', 'maritalstatus_ Married-civ-spouse', 'relationship_ Wife', 'occupation_ Farming-fishing', 'EdType_ HS-grad', 'EdType_ 9th', 'EdType_ Bachelors', 'EdType_ 12th', 'capitalloss', 'maritalstatus_ Married-AF-spouse', 'hoursperweek', 'maritalstatus_ Widowed', 'EdType_ Masters', 'relationship_ Other-relative', 'occupation_ Other-service', 'EdType_ 11th', 'occupation_ Sales', 'maritalstatus_ Separated', 'relationship_ Unmarried', 'maritalstatus_ Married-spouse-absent', 'EdType_ Prof-school', 'EdType_ 5th-6th', 'occupation_ Protective-serv', 'age', 'occupation_ Exec-managerial', 'EdType_ 1st-4th', 'relationship_ Not-in-family', 'occupation_ Transport-moving', 'EdType_ Doctorate', 'maritalstatus_ Never-married', 'EdType_ 7th-8th', 'EdType_ Assoc-voc', 'occupation_ Handlers-cleaners', 'EdType_ Assoc-acdm', 'occupation_ Armed-Forces', 'occupation_ Craft-repair', 'occupation_ Priv-house-serv', 'capitalgain', 'occupation_ Prof-specialty']\n"
     ]
    }
   ],
   "source": [
    "#Separating the input names from data\n",
    "features=list(set(columns_list)-set(['SalStat']))\n",
    "print(features)"
   ]
  },
  {
   "cell_type": "code",
   "execution_count": 42,
   "metadata": {},
   "outputs": [
    {
     "name": "stdout",
     "output_type": "stream",
     "text": [
      "[0 0 1 ... 0 0 0]\n"
     ]
    }
   ],
   "source": [
    "#Storing the output values to y\n",
    "y=new_data['SalStat'].values\n",
    "print(y)\n"
   ]
  },
  {
   "cell_type": "code",
   "execution_count": 43,
   "metadata": {},
   "outputs": [
    {
     "name": "stdout",
     "output_type": "stream",
     "text": [
      "[[0 0 1 ... 0 0 0]\n",
      " [0 0 0 ... 0 0 0]\n",
      " [0 1 0 ... 0 0 1]\n",
      " ...\n",
      " [0 1 1 ... 0 0 0]\n",
      " [0 1 1 ... 0 0 0]\n",
      " [0 0 0 ... 0 0 1]]\n"
     ]
    }
   ],
   "source": [
    "#Separating the values from input features\n",
    "x=new_data[features].values\n",
    "print(x)"
   ]
  },
  {
   "cell_type": "code",
   "execution_count": 44,
   "metadata": {},
   "outputs": [],
   "source": [
    "#Splitting the data into train and test set\n",
    "train_x,test_x,train_y,test_y=train_test_split(x,y,test_size=0.3,random_state=True)"
   ]
  },
  {
   "cell_type": "code",
   "execution_count": 45,
   "metadata": {},
   "outputs": [],
   "source": [
    "#Make an instance of the Model\n",
    "logistic=LogisticRegression()\n"
   ]
  },
  {
   "cell_type": "code",
   "execution_count": 46,
   "metadata": {},
   "outputs": [
    {
     "name": "stderr",
     "output_type": "stream",
     "text": [
      "/home/techie/.local/lib/python3.8/site-packages/sklearn/linear_model/_logistic.py:763: ConvergenceWarning: lbfgs failed to converge (status=1):\n",
      "STOP: TOTAL NO. of ITERATIONS REACHED LIMIT.\n",
      "\n",
      "Increase the number of iterations (max_iter) or scale the data as shown in:\n",
      "    https://scikit-learn.org/stable/modules/preprocessing.html\n",
      "Please also refer to the documentation for alternative solver options:\n",
      "    https://scikit-learn.org/stable/modules/linear_model.html#logistic-regression\n",
      "  n_iter_i = _check_optimize_result(\n"
     ]
    },
    {
     "data": {
      "text/plain": [
       "LogisticRegression()"
      ]
     },
     "execution_count": 46,
     "metadata": {},
     "output_type": "execute_result"
    }
   ],
   "source": [
    "#Fitting the values of x and y\n",
    "logistic.fit(train_x,train_y)"
   ]
  },
  {
   "cell_type": "code",
   "execution_count": 47,
   "metadata": {},
   "outputs": [],
   "source": [
    "#Predicting from test data\n",
    "prediction=logistic.predict(test_x)"
   ]
  },
  {
   "cell_type": "code",
   "execution_count": 48,
   "metadata": {},
   "outputs": [
    {
     "name": "stdout",
     "output_type": "stream",
     "text": [
      "0.8413591828225975\n"
     ]
    }
   ],
   "source": [
    "#Calculating the accuracy\n",
    "accuracy_score2=accuracy_score(test_y,prediction)\n",
    "print(accuracy_score2)"
   ]
  },
  {
   "cell_type": "code",
   "execution_count": 49,
   "metadata": {},
   "outputs": [
    {
     "name": "stdout",
     "output_type": "stream",
     "text": [
      "Misclassified samples: 1522 \n"
     ]
    }
   ],
   "source": [
    "#Printing misclassified values from prediction\n",
    "print(\"Misclassified samples: %d \" %(test_y!=prediction).sum())"
   ]
  },
  {
   "cell_type": "markdown",
   "metadata": {},
   "source": [
    "## KNN Model "
   ]
  },
  {
   "cell_type": "code",
   "execution_count": 50,
   "metadata": {},
   "outputs": [],
   "source": [
    "#importing the library of KNN\n",
    "from sklearn.neighbors import KNeighborsClassifier\n",
    "#import library for plotting\n",
    "import matplotlib.pyplot as plt"
   ]
  },
  {
   "cell_type": "code",
   "execution_count": 51,
   "metadata": {},
   "outputs": [],
   "source": [
    "#Storing the k nearest neighbours classifier\n",
    "KNN_classifier=KNeighborsClassifier(n_neighbors=5)"
   ]
  },
  {
   "cell_type": "code",
   "execution_count": 52,
   "metadata": {},
   "outputs": [
    {
     "data": {
      "text/plain": [
       "KNeighborsClassifier()"
      ]
     },
     "execution_count": 52,
     "metadata": {},
     "output_type": "execute_result"
    }
   ],
   "source": [
    "#Fitting the values for x and y\n",
    "KNN_classifier.fit(train_x,train_y)"
   ]
  },
  {
   "cell_type": "code",
   "execution_count": 53,
   "metadata": {},
   "outputs": [],
   "source": [
    "#Predicting the test values with model\n",
    "prediction=KNN_classifier.predict(test_x)"
   ]
  },
  {
   "cell_type": "code",
   "execution_count": 54,
   "metadata": {},
   "outputs": [
    {
     "name": "stdout",
     "output_type": "stream",
     "text": [
      "\t Predicted values\n",
      "Original values \n",
      " [[6572  700]\n",
      " [ 923 1399]]\n"
     ]
    }
   ],
   "source": [
    "#Performance matrix check\n",
    "confusion_matrix2=confusion_matrix(test_y,prediction)\n",
    "print('\\t','Predicted values')\n",
    "print('Original values','\\n',confusion_matrix2)"
   ]
  },
  {
   "cell_type": "code",
   "execution_count": 55,
   "metadata": {},
   "outputs": [
    {
     "name": "stdout",
     "output_type": "stream",
     "text": [
      "0.8308317698561601\n"
     ]
    }
   ],
   "source": [
    "#Calculatting Accuracy\n",
    "accuracy_score=accuracy_score(test_y,prediction)\n",
    "print(accuracy_score)"
   ]
  },
  {
   "cell_type": "code",
   "execution_count": 56,
   "metadata": {},
   "outputs": [
    {
     "name": "stdout",
     "output_type": "stream",
     "text": [
      "Misclassified Samples: 1623 \n"
     ]
    }
   ],
   "source": [
    "#Misclassified Samples\n",
    "print(\"Misclassified Samples: %d \" % (test_y!=prediction).sum())"
   ]
  },
  {
   "cell_type": "markdown",
   "metadata": {},
   "source": [
    "### Effect of k value on classifier"
   ]
  },
  {
   "cell_type": "code",
   "execution_count": 57,
   "metadata": {},
   "outputs": [
    {
     "name": "stdout",
     "output_type": "stream",
     "text": [
      "[1806, 1583, 1653, 1586, 1623, 1563, 1560, 1532, 1556, 1496, 1506, 1487, 1524, 1505, 1528, 1511, 1517, 1509, 1535]\n"
     ]
    }
   ],
   "source": [
    "Misclassified_Samples=[]\n",
    "#Calculating errors for k values between 1 and 20\n",
    "for i in range(1,20):\n",
    "    knn=KNeighborsClassifier(n_neighbors=i)\n",
    "    knn.fit(train_x,train_y)\n",
    "    pred_i=knn.predict(test_x)\n",
    "    Misclassified_Samples.append((test_y!=pred_i).sum())\n",
    "print(Misclassified_Samples)"
   ]
  },
  {
   "cell_type": "markdown",
   "metadata": {},
   "source": [
    "# End of Script"
   ]
  }
 ],
 "metadata": {
  "interpreter": {
   "hash": "916dbcbb3f70747c44a77c7bcd40155683ae19c65e1c03b4aa3499c5328201f1"
  },
  "kernelspec": {
   "display_name": "Python 3.8.10 64-bit",
   "name": "python3"
  },
  "language_info": {
   "codemirror_mode": {
    "name": "ipython",
    "version": 3
   },
   "file_extension": ".py",
   "mimetype": "text/x-python",
   "name": "python",
   "nbconvert_exporter": "python",
   "pygments_lexer": "ipython3",
   "version": "3.8.10"
  },
  "orig_nbformat": 4
 },
 "nbformat": 4,
 "nbformat_minor": 2
}
